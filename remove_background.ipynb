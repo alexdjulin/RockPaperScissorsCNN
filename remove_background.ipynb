{
 "cells": [
  {
   "cell_type": "markdown",
   "metadata": {},
   "source": [
    "## Isolate hand from background\n",
    "This is a test on one image of a hand gesture and the same ROI with just the background to try to isolate as best as possible the hand.  \n",
    "\n",
    "Background could be very noisy so I'm hoping this will help the CNN to come up with a decision."
   ]
  },
  {
   "cell_type": "code",
   "execution_count": null,
   "metadata": {},
   "outputs": [],
   "source": [
    "import cv2\n",
    "import numpy as np\n",
    "import matplotlib.pyplot as plt\n",
    "\n",
    "def load_image(path: str) -> np.ndarray:\n",
    "    image = cv2.imread(path)\n",
    "    image = cv2.cvtColor(image, cv2.COLOR_BGR2RGB)\n",
    "    return image\n",
    "\n",
    "def display_image(image: np.ndarray) -> None:\n",
    "    plt.imshow(image, cmap='gray')\n",
    "    plt.axis('off')\n",
    "    plt.show()\n",
    "\n",
    "roi = load_image('test_images/scissors.png')\n",
    "roi_background = load_image('test_images/bkg.png')\n",
    "threshold_amount = 15\n",
    "display_image(roi)\n",
    "# display_image(roi_background)\n",
    "\n",
    "# Convert roi and background to grayscale\n",
    "roi_gray = cv2.cvtColor(roi, cv2.COLOR_BGR2GRAY)\n",
    "bkg_gray = cv2.cvtColor(roi_background, cv2.COLOR_BGR2GRAY)\n",
    "# Calculate absolute difference\n",
    "diff = cv2.absdiff(roi_gray, bkg_gray)\n",
    "# Apply adaptative thresholding\n",
    "_, mask = cv2.threshold(diff, threshold_amount, 255, cv2.THRESH_BINARY)\n",
    "# Apply Gaussian blur\n",
    "mask = cv2.GaussianBlur(mask, (1, 1), 0)\n",
    "# Perform erosion and dilatation to remove noise and fill holes in hand\n",
    "kernel_size = 2\n",
    "mask = cv2.erode(mask, np.ones((kernel_size, kernel_size), np.uint8), iterations=1)\n",
    "kernel_size = 5\n",
    "mask = cv2.dilate(mask, np.ones((kernel_size, kernel_size), np.uint8), iterations=1)\n",
    "# Convert mask to 3 channels\n",
    "mask = cv2.cvtColor(mask, cv2.COLOR_GRAY2BGR)\n",
    "# Create new background\n",
    "new_bkg = np.ones_like(roi) * (200, 200, 200)\n",
    "# Apply mask to copy of roi\n",
    "new_roi = roi.copy()\n",
    "new_roi[:, :] = np.where(mask > 10, roi, new_bkg)\n",
    "# Display new roi\n",
    "display_image(new_roi)"
   ]
  }
 ],
 "metadata": {
  "kernelspec": {
   "display_name": "keras",
   "language": "python",
   "name": "python3"
  },
  "language_info": {
   "codemirror_mode": {
    "name": "ipython",
    "version": 3
   },
   "file_extension": ".py",
   "mimetype": "text/x-python",
   "name": "python",
   "nbconvert_exporter": "python",
   "pygments_lexer": "ipython3",
   "version": "3.11.0"
  }
 },
 "nbformat": 4,
 "nbformat_minor": 2
}
