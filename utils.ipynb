{
 "cells": [
  {
   "cell_type": "markdown",
   "metadata": {},
   "source": [
    "## List all tensorflow datasets"
   ]
  },
  {
   "cell_type": "code",
   "execution_count": null,
   "metadata": {},
   "outputs": [],
   "source": [
    "import tensorflow_datasets as tfds\n",
    "\n",
    "# See available datasets\n",
    "tfds.list_builders()"
   ]
  },
  {
   "cell_type": "markdown",
   "metadata": {},
   "source": [
    "## Download RockPaperScissors dataset"
   ]
  },
  {
   "cell_type": "code",
   "execution_count": 3,
   "metadata": {},
   "outputs": [
    {
     "name": "stdout",
     "output_type": "stream",
     "text": [
      "\u001b[1mDownloading and preparing dataset Unknown size (download: Unknown size, generated: Unknown size, total: Unknown size) to tmp\\rock_paper_scissors\\3.0.0...\u001b[0m\n"
     ]
    },
    {
     "name": "stderr",
     "output_type": "stream",
     "text": [
      "Dl Size...: 100%|██████████| 219/219 [00:19<00:00, 11.50 MiB/s]]\n",
      "Dl Completed...: 100%|██████████| 2/2 [00:19<00:00,  9.52s/ url]\n",
      "                                                                        \r"
     ]
    },
    {
     "name": "stdout",
     "output_type": "stream",
     "text": [
      "\u001b[1mDataset rock_paper_scissors downloaded and prepared to tmp\\rock_paper_scissors\\3.0.0. Subsequent calls will reuse this data.\u001b[0m\n"
     ]
    }
   ],
   "source": [
    "# download dataset\n",
    "DATASET_NAME = 'rock_paper_scissors'\n",
    "\n",
    "(dataset_train_raw, dataset_test_raw), dataset_info = tfds.load(\n",
    "    name=DATASET_NAME,\n",
    "    data_dir='tmp',\n",
    "    with_info=True,\n",
    "    as_supervised=True,\n",
    "    split=[tfds.Split.TRAIN, tfds.Split.TEST],\n",
    ")"
   ]
  },
  {
   "cell_type": "markdown",
   "metadata": {},
   "source": [
    "## Captaure Key-codes"
   ]
  },
  {
   "cell_type": "code",
   "execution_count": 1,
   "metadata": {},
   "outputs": [
    {
     "name": "stdout",
     "output_type": "stream",
     "text": [
      "119\r"
     ]
    }
   ],
   "source": [
    "import cv2\n",
    "img = cv2.imread('test/bkg.png') # load a dummy image\n",
    "while(1):\n",
    "    cv2.imshow('img',img)\n",
    "    k = cv2.waitKey(33)\n",
    "    if k==27:    # Esc key to stop\n",
    "        break\n",
    "    elif k==-1:  # normally -1 returned,so don't print it\n",
    "        continue\n",
    "    else:\n",
    "        print(k, end='\\r') # else print its value\n",
    "\n",
    "cv2.destroyAllWindows()"
   ]
  }
 ],
 "metadata": {
  "kernelspec": {
   "display_name": "keras",
   "language": "python",
   "name": "python3"
  },
  "language_info": {
   "codemirror_mode": {
    "name": "ipython",
    "version": 3
   },
   "file_extension": ".py",
   "mimetype": "text/x-python",
   "name": "python",
   "nbconvert_exporter": "python",
   "pygments_lexer": "ipython3",
   "version": "3.11.0"
  }
 },
 "nbformat": 4,
 "nbformat_minor": 2
}
