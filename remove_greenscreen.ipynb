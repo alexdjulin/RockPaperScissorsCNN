{
 "cells": [
  {
   "cell_type": "markdown",
   "metadata": {},
   "source": [
    "## Remove Greenscreen from dataset images\n",
    "The dataset of [drgfreeman](https://github.com/DrGFreeman/rps-cv) has been shot on greenscreen background. This could be an issue when training the CNN and then playing on a clear background.  \n",
    "In this notebook, I am using opencv to remove as best as possible the green background.  \n",
    "I also rotate the picture 90 deg clockwise and paste the result in a 300x300px images, to match my two other datasets."
   ]
  },
  {
   "cell_type": "code",
   "execution_count": null,
   "metadata": {},
   "outputs": [],
   "source": [
    "import os\n",
    "import cv2\n",
    "import numpy as np\n",
    "import matplotlib.pyplot as plt"
   ]
  },
  {
   "cell_type": "code",
   "execution_count": null,
   "metadata": {},
   "outputs": [],
   "source": [
    "def remove_background_expand_image(image_path: str) -> str:\n",
    "\n",
    "    # load and convert image from BGR to HSV\n",
    "    image = cv2.imread(image_path)\n",
    "    plt.imshow(image)\n",
    "    image_hsv = cv2.cvtColor(image, cv2.COLOR_BGR2HSV)\n",
    "\n",
    "    # Define range of green color in HSV\n",
    "    lower_green = np.array([35, 50, 50])\n",
    "    upper_green = np.array([90, 255, 255])\n",
    "\n",
    "    # Threshold the HSV image to get only green colors\n",
    "    mask = cv2.inRange(image_hsv, lower_green, upper_green)\n",
    "\n",
    "    # Invert the mask\n",
    "    mask_inv = cv2.bitwise_not(mask)\n",
    "\n",
    "    # Smooth the mask\n",
    "    kernel = np.ones((5,5),np.uint8)\n",
    "    mask_smoothed = cv2.morphologyEx(mask_inv, cv2.MORPH_CLOSE, kernel)\n",
    "\n",
    "    # Create a uniformed background\n",
    "    background_color = (200, 200, 200)\n",
    "    uniformed_background = np.full_like(image, background_color, dtype=np.uint8)\n",
    "\n",
    "    # Bitwise AND of the black background and the mask\n",
    "    foreground = cv2.bitwise_and(uniformed_background, uniformed_background, mask=mask)\n",
    "\n",
    "    # Bitwise AND of the image and the mask\n",
    "    background = cv2.bitwise_and(image, image, mask=mask_smoothed)\n",
    "\n",
    "    # Combine foreground and background\n",
    "    combined = cv2.add(foreground, background)\n",
    "\n",
    "    # create new image of shape 300x300\n",
    "    height, width = image.shape[:2]\n",
    "    new_height = height + 100\n",
    "    new_image = np.zeros((new_height, width, 3), np.uint8)\n",
    "    expanded_image = np.full_like(new_image, background_color, dtype=np.uint8)\n",
    "\n",
    "    # Calculate the position to paste the result image for centering\n",
    "    paste_y = int((new_height - height) / 2)\n",
    "\n",
    "    # Paste the result onto the expanded image (centered vertically)\n",
    "    expanded_image[paste_y:paste_y+height, 0:width] = combined\n",
    "\n",
    "    # Rotate the image 90 degrees to the left\n",
    "    rotated_image = cv2.rotate(expanded_image, cv2.ROTATE_90_CLOCKWISE)\n",
    "\n",
    "    # Save image\n",
    "    new_path = image_path.replace('.png', '_.png')\n",
    "    print('Saved: ', new_path)\n",
    "    cv2.imwrite(new_path, rotated_image)\n",
    "\n",
    "    return new_path\n"
   ]
  },
  {
   "cell_type": "code",
   "execution_count": null,
   "metadata": {},
   "outputs": [],
   "source": [
    "def display_image(path: str) -> None:\n",
    "    image = cv2.imread(path)\n",
    "    image_rgb = cv2.cvtColor(image, cv2.COLOR_BGR2RGB)\n",
    "    plt.imshow(image_rgb)\n",
    "    plt.axis('off')\n",
    "    plt.show()\n",
    "    print(path, image.shape)"
   ]
  },
  {
   "cell_type": "code",
   "execution_count": null,
   "metadata": {},
   "outputs": [],
   "source": [
    "source_image = 'test_images/scissors_green.png'\n",
    "display_image(source_image)"
   ]
  },
  {
   "cell_type": "code",
   "execution_count": null,
   "metadata": {},
   "outputs": [],
   "source": [
    "result_image = remove_background_expand_image(source_image)\n",
    "display_image(result_image)"
   ]
  },
  {
   "cell_type": "code",
   "execution_count": null,
   "metadata": {},
   "outputs": [],
   "source": [
    "# Run through all images in the dataset\n",
    "\n",
    "folders = [\n",
    "    r'dataset\\drgfreeman\\paper',\n",
    "    r'dataset\\drgfreeman\\rock',\n",
    "    r'dataset\\drgfreeman\\scissors',\n",
    "]\n",
    "\n",
    "for dir in folders:\n",
    "    for img in [_ for _ in os.listdir(dir) if _.endswith('.png')]:\n",
    "        remove_background_expand_image(os.path.join(dir, img))"
   ]
  }
 ],
 "metadata": {
  "kernelspec": {
   "display_name": "keras",
   "language": "python",
   "name": "python3"
  },
  "language_info": {
   "codemirror_mode": {
    "name": "ipython",
    "version": 3
   },
   "file_extension": ".py",
   "mimetype": "text/x-python",
   "name": "python",
   "nbconvert_exporter": "python",
   "pygments_lexer": "ipython3",
   "version": "3.11.0"
  }
 },
 "nbformat": 4,
 "nbformat_minor": 2
}
